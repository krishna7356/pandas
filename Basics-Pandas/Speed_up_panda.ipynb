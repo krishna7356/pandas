{
 "cells": [
  {
   "cell_type": "markdown",
   "metadata": {},
   "source": [
    "# Speed up pandas Python Code"
   ]
  },
  {
   "cell_type": "code",
   "execution_count": 40,
   "metadata": {},
   "outputs": [],
   "source": [
    "import pandas as pd\n",
    "import numpy as np\n",
    "import matplotlib.pyplot as plt"
   ]
  },
  {
   "cell_type": "markdown",
   "metadata": {},
   "source": [
    "## Creating Dataset"
   ]
  },
  {
   "cell_type": "code",
   "execution_count": 26,
   "metadata": {},
   "outputs": [],
   "source": [
    "def get_dataset(size):\n",
    "    df= pd.DataFrame()\n",
    "    df['Age'] =np.random.randint(15,95,size)\n",
    "    df['The_time_workout']=np.random.randint(1,6,size)\n",
    "    df['Sleep_time']=np.random.randint(4,8,size)\n",
    "    df['Healthy_food']=np.random.choice(['roti','salad','juice','egg','shake'],size)\n",
    "    df['other_food']=np.random.choice(['pizza','fired_fish','fried_chicken'],size)\n",
    "    return df"
   ]
  },
  {
   "cell_type": "markdown",
   "metadata": {},
   "source": [
    "## The problem\n",
    "Rewarding Calculation:\n",
    "- If they were in bed for more than 5 hours and workout time must be greater than 1 hour \n",
    "give them Healthy food only.\n",
    "- Other wise give them them other_food\n",
    "- If they are age more than 90 give them healthy food."
   ]
  },
  {
   "cell_type": "code",
   "execution_count": 27,
   "metadata": {},
   "outputs": [],
   "source": [
    "def reward_cal(row):\n",
    "    if row['Age']>90:\n",
    "        return row['Healthy_food']\n",
    "    if row['Sleep_time'] >5 &(row['The_time_workout']):\n",
    "        return row['Healthy_food']\n",
    "    return row['other_food']"
   ]
  },
  {
   "cell_type": "markdown",
   "metadata": {},
   "source": [
    "### loop"
   ]
  },
  {
   "cell_type": "code",
   "execution_count": 28,
   "metadata": {},
   "outputs": [
    {
     "name": "stdout",
     "output_type": "stream",
     "text": [
      "6.62 ms ± 614 µs per loop (mean ± std. dev. of 7 runs, 100 loops each)\n"
     ]
    }
   ],
   "source": [
    "%%timeit\n",
    "df = get_dataset(10)\n",
    "for index,rows in df.iterrows():\n",
    "    df.loc[index,\"Reward\"]=reward_cal(rows)\n"
   ]
  },
  {
   "cell_type": "markdown",
   "metadata": {},
   "source": [
    "### Apply"
   ]
  },
  {
   "cell_type": "code",
   "execution_count": 29,
   "metadata": {},
   "outputs": [
    {
     "name": "stdout",
     "output_type": "stream",
     "text": [
      "4.36 ms ± 185 µs per loop (mean ± std. dev. of 7 runs, 100 loops each)\n"
     ]
    }
   ],
   "source": [
    "%%timeit\n",
    "df = get_dataset(10)\n",
    "df['Reward'] = df.apply(reward_cal,axis=1)"
   ]
  },
  {
   "cell_type": "markdown",
   "metadata": {},
   "source": [
    "### Vectorized"
   ]
  },
  {
   "cell_type": "code",
   "execution_count": 30,
   "metadata": {},
   "outputs": [],
   "source": [
    "df= get_dataset(10)"
   ]
  },
  {
   "cell_type": "code",
   "execution_count": 31,
   "metadata": {},
   "outputs": [
    {
     "name": "stdout",
     "output_type": "stream",
     "text": [
      "1.54 ms ± 13 µs per loop (mean ± std. dev. of 7 runs, 1,000 loops each)\n"
     ]
    }
   ],
   "source": [
    "%%timeit\n",
    "df['Reward']= df['other_food']\n",
    "df.loc[(df['Sleep_time'] >5) & (df['The_time_workout']) \\\n",
    "    | (df['Age']>90),'Reward']= df ['Healthy_food']"
   ]
  },
  {
   "cell_type": "markdown",
   "metadata": {},
   "source": [
    "time take to execute \n",
    "#### loop\n",
    "* 5.87 ms ± 41 µs per loop (mean ± std. dev. of 7 runs, 100 loops each)\n",
    "* 6.05 ms ± 342 µs per loop (mean ± std. dev. of 7 runs, 100 loops each)\n",
    "#### Apply\n",
    "* 4.16 ms ± 165 µs per loop (mean ± std. dev. of 7 runs, 100 loops each)\n",
    "* 4.36 ms ± 185 µs per loop (mean ± std. dev. of 7 runs, 100 loops each)\n",
    "#### Vectorized\n",
    "* 1.67 ms ± 113 µs per loop (mean ± std. dev. of 7 runs, 100 loops each)\n",
    "* 1.54 ms ± 13 µs per loop (mean ± std. dev. of 7 runs, 1,000 loops each)"
   ]
  },
  {
   "cell_type": "markdown",
   "metadata": {},
   "source": [
    "## Ploting Difference"
   ]
  },
  {
   "cell_type": "code",
   "execution_count": 45,
   "metadata": {},
   "outputs": [],
   "source": [
    "result = pd.DataFrame(\n",
    "    [\n",
    "        ['loop',3500,48.3],\n",
    "        ['Apply',192,6.34],\n",
    "        ['Vectorized',1.4,0.0086]\n",
    "\n",
    "    ],\n",
    "    columns=['Type','Mean','Std'],\n",
    ")"
   ]
  },
  {
   "cell_type": "code",
   "execution_count": 52,
   "metadata": {},
   "outputs": [
    {
     "data": {
      "image/png": "[encoded data removed]",
      "text/plain": [
       "<Figure size 432x288 with 1 Axes>"
      ]
     },
     "metadata": {
      "needs_background": "light"
     },
     "output_type": "display_data"
    }
   ],
   "source": [
    "ax= result.set_index('Type')[\"Mean\"].plot(kind='barh')\n",
    "plt.show()"
   ]
  },
  {
   "cell_type": "code",
   "execution_count": null,
   "metadata": {},
   "outputs": [],
   "source": []
  }
 ],
 "metadata": {
  "kernelspec": {
   "display_name": "Python 3",
   "language": "python",
   "name": "python3"
  },
  "language_info": {
   "codemirror_mode": {
    "name": "ipython",
    "version": 3
   },
   "file_extension": ".py",
   "mimetype": "text/x-python",
   "name": "python",
   "nbconvert_exporter": "python",
   "pygments_lexer": "ipython3",
   "version": "3.10.5"
  },
  "orig_nbformat": 4,
  "vscode": {
   "interpreter": {
    "hash": "22a49e0ee0814321ded3ac19aada82c3cd011c5600f00e71fb0640a2a9279083"
   }
  }
 },
 "nbformat": 4,
 "nbformat_minor": 2
}
